{
 "cells": [
  {
   "cell_type": "markdown",
   "metadata": {},
   "source": [
    "# Assignment 2. Yang Yinfang"
   ]
  },
  {
   "cell_type": "markdown",
   "metadata": {},
   "source": [
    "Data\n",
    "\n",
    "For this assignment, you will either use the corpus you created in Assignment 1 or you can create a new corpus.\n",
    "\n",
    "Tasks\n",
    "1. Choose 10 words from your corpus and see what words are considered to be the most similar using the pre-trained word2vec introduced in Task 1 of Workshop 4. Discuss and briefly document the outputs, keeping in mind that the pre-trained word2vec is only a sample model. You may look at other pre-trained models but this is not compulsory."
   ]
  },
  {
   "cell_type": "code",
   "execution_count": 1,
   "metadata": {},
   "outputs": [],
   "source": [
    "import gensim\n",
    "import matplotlib.pyplot as plt"
   ]
  },
  {
   "cell_type": "code",
   "execution_count": 2,
   "metadata": {},
   "outputs": [],
   "source": [
    "import nltk\n",
    "#nltk.download('word2vec_sample')"
   ]
  },
  {
   "cell_type": "code",
   "execution_count": 3,
   "metadata": {},
   "outputs": [],
   "source": [
    "from nltk.data import find\n",
    "word2vec_sample = str(find('models/word2vec_sample/pruned.word2vec.txt'))\n",
    "model = gensim.models.KeyedVectors.load_word2vec_format(word2vec_sample, binary=False)"
   ]
  },
  {
   "cell_type": "code",
   "execution_count": 4,
   "metadata": {},
   "outputs": [
    {
     "data": {
      "text/plain": [
       "43981"
      ]
     },
     "execution_count": 4,
     "metadata": {},
     "output_type": "execute_result"
    }
   ],
   "source": [
    "len(model.index_to_key)"
   ]
  },
  {
   "cell_type": "code",
   "execution_count": 5,
   "metadata": {},
   "outputs": [
    {
     "data": {
      "text/plain": [
       "300"
      ]
     },
     "execution_count": 5,
     "metadata": {},
     "output_type": "execute_result"
    }
   ],
   "source": [
    "len(model['farmer'])"
   ]
  },
  {
   "cell_type": "code",
   "execution_count": 6,
   "metadata": {},
   "outputs": [
    {
     "data": {
      "text/plain": [
       "300"
      ]
     },
     "execution_count": 6,
     "metadata": {},
     "output_type": "execute_result"
    }
   ],
   "source": [
    "len(model['the'])"
   ]
  },
  {
   "cell_type": "code",
   "execution_count": 7,
   "metadata": {},
   "outputs": [],
   "source": [
    "#print(list(model.index_to_key))"
   ]
  },
  {
   "cell_type": "code",
   "execution_count": 8,
   "metadata": {
    "scrolled": false
   },
   "outputs": [],
   "source": [
    "#print(model['the'])"
   ]
  },
  {
   "cell_type": "markdown",
   "metadata": {},
   "source": [
    "Choose 10 words from the corpus I created in Assignment 1. design.txt\n",
    "Now look at the words most similar to 'design', 'color', 'cover', 'arrow', 'digital', 'architecture', 'poster', 'style', 'brick', 'administration'."
   ]
  },
  {
   "cell_type": "code",
   "execution_count": 9,
   "metadata": {
    "scrolled": false
   },
   "outputs": [
    {
     "data": {
      "text/plain": [
       "[<matplotlib.lines.Line2D at 0x1bc5b4d18d0>]"
      ]
     },
     "execution_count": 9,
     "metadata": {},
     "output_type": "execute_result"
    },
    {
     "data": {
      "image/png": "[encoded data removed]",
      "text/plain": [
       "<Figure size 640x480 with 1 Axes>"
      ]
     },
     "metadata": {},
     "output_type": "display_data"
    }
   ],
   "source": [
    "x = model.most_similar('design', topn = 10)\n",
    "plt.plot(*zip(*x),)\n"
   ]
  },
  {
   "cell_type": "code",
   "execution_count": 10,
   "metadata": {
    "scrolled": true
   },
   "outputs": [
    {
     "data": {
      "text/plain": [
       "[('colors', 0.6966161727905273),\n",
       " ('Color', 0.6928340792655945),\n",
       " ('hues', 0.6134262681007385),\n",
       " ('colored', 0.5960178971290588),\n",
       " ('coloration', 0.566051721572876),\n",
       " ('tint', 0.5416194200515747),\n",
       " ('tints', 0.5408098101615906),\n",
       " ('texture', 0.5328344702720642),\n",
       " ('coloring', 0.5237941145896912),\n",
       " ('multicolor', 0.5228288173675537)]"
      ]
     },
     "execution_count": 10,
     "metadata": {},
     "output_type": "execute_result"
    }
   ],
   "source": [
    "model.most_similar('color', topn = 10)"
   ]
  },
  {
   "cell_type": "code",
   "execution_count": 11,
   "metadata": {},
   "outputs": [
    {
     "data": {
      "text/plain": [
       "[('covered', 0.6365917325019836),\n",
       " ('covers', 0.6324585676193237),\n",
       " ('covering', 0.6228252649307251),\n",
       " ('Cover', 0.5387539267539978),\n",
       " ('defray', 0.44512268900871277),\n",
       " ('coverage', 0.42307594418525696),\n",
       " ('underwrite', 0.4008883535861969),\n",
       " ('compensate', 0.39234650135040283),\n",
       " ('expose', 0.38775506615638733),\n",
       " ('absorb', 0.3760640025138855)]"
      ]
     },
     "execution_count": 11,
     "metadata": {},
     "output_type": "execute_result"
    }
   ],
   "source": [
    "model.most_similar('cover', topn = 10)"
   ]
  },
  {
   "cell_type": "code",
   "execution_count": 12,
   "metadata": {},
   "outputs": [
    {
     "data": {
      "text/plain": [
       "[('arrows', 0.7417104840278625),\n",
       " ('bullet', 0.4835249185562134),\n",
       " ('bowstring', 0.4829917550086975),\n",
       " ('projectile', 0.45351284742355347),\n",
       " ('rifle', 0.4463790953159332),\n",
       " ('spear', 0.4424857199192047),\n",
       " ('orb', 0.4386906623840332),\n",
       " ('bullets', 0.43558740615844727),\n",
       " ('compass', 0.42778652906417847),\n",
       " ('button', 0.4178260564804077)]"
      ]
     },
     "execution_count": 12,
     "metadata": {},
     "output_type": "execute_result"
    }
   ],
   "source": [
    "model.most_similar('arrow', topn = 10)"
   ]
  },
  {
   "cell_type": "code",
   "execution_count": 13,
   "metadata": {},
   "outputs": [
    {
     "data": {
      "text/plain": [
       "[('multichannel', 0.5431842803955078),\n",
       " ('digitalization', 0.5371591448783875),\n",
       " ('electronic', 0.5251681804656982),\n",
       " ('analogue', 0.4815901219844818),\n",
       " ('formats', 0.480229914188385),\n",
       " ('portable', 0.4732119143009186),\n",
       " ('optical', 0.4716432988643646),\n",
       " ('audio', 0.4640563726425171),\n",
       " ('mobile', 0.46348562836647034),\n",
       " ('print', 0.44780802726745605)]"
      ]
     },
     "execution_count": 13,
     "metadata": {},
     "output_type": "execute_result"
    }
   ],
   "source": [
    "model.most_similar('digital', topn = 10)"
   ]
  },
  {
   "cell_type": "code",
   "execution_count": 14,
   "metadata": {
    "scrolled": false
   },
   "outputs": [
    {
     "data": {
      "text/plain": [
       "[('architectural', 0.7119766473770142),\n",
       " ('design', 0.6261317133903503),\n",
       " ('architectures', 0.6010560989379883),\n",
       " ('architect', 0.514553964138031),\n",
       " ('designs', 0.505341112613678),\n",
       " ('architects', 0.5023890733718872),\n",
       " ('Architect', 0.4825759530067444),\n",
       " ('urbanism', 0.475290983915329),\n",
       " ('Borromini', 0.46733003854751587),\n",
       " ('Design', 0.4662450850009918)]"
      ]
     },
     "execution_count": 14,
     "metadata": {},
     "output_type": "execute_result"
    }
   ],
   "source": [
    "model.most_similar('architecture', topn = 10)"
   ]
  },
  {
   "cell_type": "code",
   "execution_count": 15,
   "metadata": {},
   "outputs": [
    {
     "data": {
      "text/plain": [
       "[('posters', 0.6902774572372437),\n",
       " ('Poster', 0.5814910531044006),\n",
       " ('billboard', 0.535101592540741),\n",
       " ('banner', 0.5136918425559998),\n",
       " ('flier', 0.5127196907997131),\n",
       " ('flyer', 0.5016227960586548),\n",
       " ('banners', 0.48153799772262573),\n",
       " ('photograph', 0.4714220464229584),\n",
       " ('picture', 0.4563625454902649),\n",
       " ('mural', 0.45524483919143677)]"
      ]
     },
     "execution_count": 15,
     "metadata": {},
     "output_type": "execute_result"
    }
   ],
   "source": [
    "model.most_similar('poster', topn = 10)"
   ]
  },
  {
   "cell_type": "code",
   "execution_count": 16,
   "metadata": {},
   "outputs": [
    {
     "data": {
      "text/plain": [
       "[('styles', 0.6399440169334412),\n",
       " ('flair', 0.6104062795639038),\n",
       " ('styled', 0.5924666523933411),\n",
       " ('sensibility', 0.5221042037010193),\n",
       " ('elegance', 0.5098029375076294),\n",
       " ('mentality', 0.49009668827056885),\n",
       " ('motif', 0.48052212595939636),\n",
       " ('classic', 0.4754573404788971),\n",
       " ('approach', 0.46586114168167114),\n",
       " ('philosophy', 0.46018531918525696)]"
      ]
     },
     "execution_count": 16,
     "metadata": {},
     "output_type": "execute_result"
    }
   ],
   "source": [
    "model.most_similar('style', topn = 10)"
   ]
  },
  {
   "cell_type": "code",
   "execution_count": 17,
   "metadata": {},
   "outputs": [
    {
     "data": {
      "text/plain": [
       "[('bricks', 0.7437677383422852),\n",
       " ('stucco', 0.637563943862915),\n",
       " ('masonry', 0.5659661293029785),\n",
       " ('fieldstone', 0.5582162141799927),\n",
       " ('stone', 0.5541297793388367),\n",
       " ('building', 0.5241116285324097),\n",
       " ('tile', 0.5156722068786621),\n",
       " ('facade', 0.5149651169776917),\n",
       " ('granite', 0.5056736469268799),\n",
       " ('Bricks', 0.5026870369911194)]"
      ]
     },
     "execution_count": 17,
     "metadata": {},
     "output_type": "execute_result"
    }
   ],
   "source": [
    "model.most_similar('brick', topn = 10)"
   ]
  },
  {
   "cell_type": "code",
   "execution_count": 18,
   "metadata": {},
   "outputs": [
    {
     "data": {
      "text/plain": [
       "[('adminstration', 0.7344890832901001),\n",
       " ('Administration', 0.6441454887390137),\n",
       " ('government', 0.5462368726730347),\n",
       " ('Bush', 0.536534309387207),\n",
       " ('Congress', 0.493055522441864),\n",
       " ('aides', 0.46706441044807434),\n",
       " ('appointees', 0.4499994218349457),\n",
       " ('appointee', 0.4390007257461548),\n",
       " ('lawmakers', 0.43175897002220154),\n",
       " ('policy', 0.4317269027233124)]"
      ]
     },
     "execution_count": 18,
     "metadata": {},
     "output_type": "execute_result"
    }
   ],
   "source": [
    "model.most_similar('administration', topn = 10)"
   ]
  },
  {
   "cell_type": "code",
   "execution_count": 19,
   "metadata": {
    "scrolled": false
   },
   "outputs": [
    {
     "data": {
      "text/plain": [
       "[('universities', 0.7003918290138245),\n",
       " ('faculty', 0.6780907511711121),\n",
       " ('undergraduate', 0.6587095856666565),\n",
       " ('campus', 0.6434987783432007),\n",
       " ('college', 0.6385269165039062),\n",
       " ('academic', 0.6317198276519775),\n",
       " ('professors', 0.6298647522926331),\n",
       " ('undergraduates', 0.6149812340736389),\n",
       " ('University', 0.6139305233955383),\n",
       " ('student', 0.600540041923523)]"
      ]
     },
     "execution_count": 19,
     "metadata": {},
     "output_type": "execute_result"
    }
   ],
   "source": [
    "model.most_similar('university', topn = 10)"
   ]
  },
  {
   "cell_type": "markdown",
   "metadata": {},
   "source": [
    "## Building a Language Model\n",
    "Tasks 2\n",
    "\n",
    "Using the tools introduced in Task 4 of Workshop 4, build a language model for your corpus and discuss some of the “sentences” that can be generated from this language model."
   ]
  },
  {
   "cell_type": "markdown",
   "metadata": {},
   "source": [
    "load corpus design.txt"
   ]
  },
  {
   "cell_type": "code",
   "execution_count": 20,
   "metadata": {},
   "outputs": [
    {
     "name": "stderr",
     "output_type": "stream",
     "text": [
      "[nltk_data] Downloading package punkt to\n",
      "[nltk_data]     C:\\Users\\dell\\AppData\\Roaming\\nltk_data...\n",
      "[nltk_data]   Package punkt is already up-to-date!\n"
     ]
    },
    {
     "data": {
      "text/plain": [
       "True"
      ]
     },
     "execution_count": 20,
     "metadata": {},
     "output_type": "execute_result"
    }
   ],
   "source": [
    "import string\n",
    "from nltk.lm.preprocessing import padded_everygram_pipeline\n",
    "from nltk.lm import MLE\n",
    "nltk.download('punkt')"
   ]
  },
  {
   "cell_type": "code",
   "execution_count": 21,
   "metadata": {},
   "outputs": [],
   "source": [
    "# Load corpus from file\n",
    "with open('design.txt', 'r',encoding='gbk',errors='ignore') as file:\n",
    "    mydata = file.read()"
   ]
  },
  {
   "cell_type": "markdown",
   "metadata": {},
   "source": [
    "data preprocessing"
   ]
  },
  {
   "cell_type": "code",
   "execution_count": 22,
   "metadata": {},
   "outputs": [],
   "source": [
    "# Sentence tokenisation\n",
    "mydata_tokens = nltk.sent_tokenize(mydata)"
   ]
  },
  {
   "cell_type": "code",
   "execution_count": 23,
   "metadata": {},
   "outputs": [],
   "source": [
    "# Remove punctuation\n",
    "mydata_tokens_no_punct = [''.join(letter for letter in word if letter not in string.punctuation) for word in mydata_tokens]"
   ]
  },
  {
   "cell_type": "code",
   "execution_count": 24,
   "metadata": {},
   "outputs": [],
   "source": [
    "# Separate sentences\n",
    "separate_sentences = list((mysent.split() for mysent in mydata_tokens_no_punct))"
   ]
  },
  {
   "cell_type": "markdown",
   "metadata": {},
   "source": [
    "Generating the model"
   ]
  },
  {
   "cell_type": "code",
   "execution_count": 25,
   "metadata": {},
   "outputs": [],
   "source": [
    "# Training the model using the nltk n-gram pipeline\n",
    "# Here \"3\" means 3-gram - you can change this.\n",
    "# Note that the sentences start <s> and end </s> tags are inserted automatically\n",
    "train, vocab = padded_everygram_pipeline(3, separate_sentences)"
   ]
  },
  {
   "cell_type": "code",
   "execution_count": 26,
   "metadata": {},
   "outputs": [],
   "source": [
    "# Instantiate the Maximum Likelihood Estimator (MLE) language model(lm) with the highest order n-gram - here \"3\" for 3-gram\n",
    "lm = MLE(3)"
   ]
  },
  {
   "cell_type": "code",
   "execution_count": 27,
   "metadata": {
    "scrolled": true
   },
   "outputs": [
    {
     "name": "stdout",
     "output_type": "stream",
     "text": [
      "<Vocabulary with cutoff=1 unk_label='<UNK>' and 3788 items>\n"
     ]
    }
   ],
   "source": [
    "# Fit the model to generate the vocabulary \n",
    "lm.fit(train, vocab)\n",
    "print(lm.vocab)"
   ]
  },
  {
   "cell_type": "markdown",
   "metadata": {},
   "source": [
    "### You can now generate \"sentences\" using the language model\n",
    "You can define the length of the sentence and you can include a text_seed to provide a starting word. Note that typically these will produce different sentences from your model."
   ]
  },
  {
   "cell_type": "code",
   "execution_count": 30,
   "metadata": {
    "scrolled": true
   },
   "outputs": [
    {
     "data": {
      "text/plain": [
       "['</s>', '</s>', '</s>', '</s>', '</s>']"
      ]
     },
     "execution_count": 30,
     "metadata": {},
     "output_type": "execute_result"
    }
   ],
   "source": [
    "lm.generate(5)"
   ]
  },
  {
   "cell_type": "code",
   "execution_count": 31,
   "metadata": {},
   "outputs": [
    {
     "data": {
      "text/plain": [
       "['Stockholm',\n",
       " 'company',\n",
       " 'and',\n",
       " 'did',\n",
       " 'the',\n",
       " 'Tesla',\n",
       " 'room',\n",
       " '</s>',\n",
       " '</s>',\n",
       " '</s>']"
      ]
     },
     "execution_count": 31,
     "metadata": {},
     "output_type": "execute_result"
    }
   ],
   "source": [
    "lm.generate(10)"
   ]
  },
  {
   "cell_type": "code",
   "execution_count": 32,
   "metadata": {},
   "outputs": [
    {
     "data": {
      "text/plain": [
       "['to', 'be', 'a', 'preference', 'though']"
      ]
     },
     "execution_count": 32,
     "metadata": {},
     "output_type": "execute_result"
    }
   ],
   "source": [
    "lm.generate(5, text_seed=['design'])"
   ]
  },
  {
   "cell_type": "code",
   "execution_count": 33,
   "metadata": {},
   "outputs": [
    {
     "data": {
      "text/plain": [
       "['you', 'these', 'things', 'I', 'can', 'buy']"
      ]
     },
     "execution_count": 33,
     "metadata": {},
     "output_type": "execute_result"
    }
   ],
   "source": [
    "lm.generate(6, text_seed=['tell'])"
   ]
  },
  {
   "cell_type": "markdown",
   "metadata": {},
   "source": [
    "TASK 3\n",
    "\n",
    "Using the tools of Task 4 of Workshop 4 now build a model for words (letter n-grams) rather than sentences for all words in your corpus which begin with the same letter as your surname. Note that you will need to prepare the data differently for this. Discuss some of the “words” that can be generated from this language model."
   ]
  },
  {
   "cell_type": "code",
   "execution_count": 72,
   "metadata": {},
   "outputs": [],
   "source": [
    "from nltk.util import ngrams\n",
    "import numpy as np"
   ]
  },
  {
   "cell_type": "markdown",
   "metadata": {},
   "source": [
    "use dracular.txt, the words start with Y to train the model "
   ]
  },
  {
   "cell_type": "code",
   "execution_count": 34,
   "metadata": {},
   "outputs": [],
   "source": [
    "with open('dracula.txt',encoding='gbk',errors='ignore') as f:\n",
    "        dracula_txt= ' '.join(line.strip() for line in f.readlines())\n",
    "dracula_raw = dracula_txt[2100:30175]\n",
    "dracula_tokens = nltk.sent_tokenize(dracula_raw)"
   ]
  },
  {
   "cell_type": "markdown",
   "metadata": {},
   "source": [
    "prepare"
   ]
  },
  {
   "cell_type": "code",
   "execution_count": 35,
   "metadata": {},
   "outputs": [],
   "source": [
    "mydata_tokens_no_punct2 = [''.join(letter for letter in word if letter not in string.punctuation) for word in dracula_tokens]\n",
    "separate_sentences2 = list((mysent.split() for mysent in mydata_tokens_no_punct2))"
   ]
  },
  {
   "cell_type": "markdown",
   "metadata": {},
   "source": [
    "generate word list"
   ]
  },
  {
   "cell_type": "code",
   "execution_count": 46,
   "metadata": {},
   "outputs": [],
   "source": [
    "words = []\n",
    "for item in separate_sentences2:\n",
    "    for item2 in item:\n",
    "        if(item2[0]=='y'):\n",
    "            words.append(item2)"
   ]
  },
  {
   "cell_type": "code",
   "execution_count": 47,
   "metadata": {},
   "outputs": [],
   "source": [
    "wordlist =[]\n",
    "for i in words:\n",
    "    wordlist.append(list(i))"
   ]
  },
  {
   "cell_type": "markdown",
   "metadata": {},
   "source": [
    "train the model"
   ]
  },
  {
   "cell_type": "code",
   "execution_count": 48,
   "metadata": {},
   "outputs": [],
   "source": [
    "train2, vocab2 = padded_everygram_pipeline(3,wordlist)"
   ]
  },
  {
   "cell_type": "code",
   "execution_count": 49,
   "metadata": {},
   "outputs": [],
   "source": [
    "lm2 = MLE(3)"
   ]
  },
  {
   "cell_type": "code",
   "execution_count": 50,
   "metadata": {},
   "outputs": [
    {
     "name": "stdout",
     "output_type": "stream",
     "text": [
      "<Vocabulary with cutoff=1 unk_label='<UNK>' and 3788 items>\n"
     ]
    }
   ],
   "source": [
    "lm2.fit(train2, vocab2)\n",
    "print(lm.vocab)"
   ]
  },
  {
   "cell_type": "markdown",
   "metadata": {},
   "source": [
    "clean the result, delete the /s and s, trun list into str"
   ]
  },
  {
   "cell_type": "code",
   "execution_count": 56,
   "metadata": {},
   "outputs": [
    {
     "name": "stdout",
     "output_type": "stream",
     "text": [
      "yes\n",
      "you\n",
      "yard\n",
      "you\n",
      "yard\n",
      "you\n",
      "you\n",
      "you\n",
      "you\n",
      "your\n"
     ]
    }
   ],
   "source": [
    "for i in range(10):\n",
    "    output = []\n",
    "    while output == []:\n",
    "        output = [i for i in lm2.generate(5,text_seed=\"y\") if i  !='<s>' and i !='</s>']\n",
    "    wordgenerated = \"y\"+''.join(output)\n",
    "    print(wordgenerated)"
   ]
  },
  {
   "cell_type": "code",
   "execution_count": 57,
   "metadata": {},
   "outputs": [
    {
     "data": {
      "text/plain": [
       "['yet',\n",
       " 'you',\n",
       " 'you',\n",
       " 'years',\n",
       " 'you',\n",
       " 'you',\n",
       " 'you',\n",
       " 'you',\n",
       " 'your',\n",
       " 'you',\n",
       " 'your',\n",
       " 'you',\n",
       " 'you',\n",
       " 'you',\n",
       " 'yes',\n",
       " 'you',\n",
       " 'you',\n",
       " 'you',\n",
       " 'you',\n",
       " 'you',\n",
       " 'yet',\n",
       " 'your',\n",
       " 'yard',\n",
       " 'yard',\n",
       " 'yet',\n",
       " 'you',\n",
       " 'you',\n",
       " 'you',\n",
       " 'you',\n",
       " 'you',\n",
       " 'yet']"
      ]
     },
     "execution_count": 57,
     "metadata": {},
     "output_type": "execute_result"
    }
   ],
   "source": [
    "words"
   ]
  },
  {
   "cell_type": "markdown",
   "metadata": {},
   "source": [
    "TASK 4\n",
    "Discuss the limitations of n-gram language models and suggest ways in which these limitations\n",
    "can be overcome."
   ]
  }
 ],
 "metadata": {
  "kernelspec": {
   "display_name": "Python 3 (ipykernel)",
   "language": "python",
   "name": "python3"
  },
  "language_info": {
   "codemirror_mode": {
    "name": "ipython",
    "version": 3
   },
   "file_extension": ".py",
   "mimetype": "text/x-python",
   "name": "python",
   "nbconvert_exporter": "python",
   "pygments_lexer": "ipython3",
   "version": "3.9.13"
  }
 },
 "nbformat": 4,
 "nbformat_minor": 2
}
